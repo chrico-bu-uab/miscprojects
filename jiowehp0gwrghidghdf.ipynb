{
 "cells": [
  {
   "cell_type": "code",
   "execution_count": 1,
   "metadata": {},
   "outputs": [
    {
     "name": "stdout",
     "output_type": "stream",
     "text": [
      "@chrishasboobs AHHH I HOPE YOUR OK!!! \n",
      "@misstoriblack cool , i have no tweet apps  for my razr 2\n",
      "@TiannaChaos i know  just family drama. its lame.hey next time u hang out with kim n u guys like have a sleepover or whatever, ill call u\n",
      "School email won't open  and I have geography stuff on there to revise! *Stupid School* :'(\n",
      "upper airways problem \n",
      "Going to miss Pastor's sermon on Faith... \n",
      "on lunch....dj should come eat with me \n",
      "@piginthepoke oh why are you feeling like that? \n",
      "gahh noo!peyton needs to live!this is horrible \n",
      "@mrstessyman thank you glad you like it! There is a product review bit on the site  Enjoy knitting it!\n"
     ]
    },
    {
     "data": {
      "text/plain": [
       "(array(['<handle> ahhh i hope your ok <exclam> <exclam> <exclam>',\n",
       "        '<handle> cool <punct> i have no tweet apps for my razr 2',\n",
       "        '<handle> i know just family drama <punct> its lame <punct> hey next time u hang out with kim n u guys like have a sleepover or whatever <punct> ill call u',\n",
       "        \"school email won't open <and> i have geography stuff on there to revise <exclam> <punct> stupid school <punct> <punct> ' <punct>\",\n",
       "        'upper airways problem',\n",
       "        \"going to miss pastor's sermon on faith <ellipsis>\",\n",
       "        'on lunch <ellipsis> <punct> dj should come eat with me',\n",
       "        '<handle> oh why are you feeling like that <quest>',\n",
       "        'gahh noo <exclam> peyton needs to live <exclam> this is horrible',\n",
       "        '<handle> thank you glad you like it <exclam> there is a product review bit on the site enjoy knitting it <exclam>'],\n",
       "       dtype=object),\n",
       " array([0, 0, 0, 0, 0, 0, 1, 0, 0, 1]),\n",
       " array([0, 1]),\n",
       " 100000)"
      ]
     },
     "execution_count": 1,
     "metadata": {},
     "output_type": "execute_result"
    }
   ],
   "source": [
    "from tensorflow.compat import v1 as tf\n",
    "import numpy as np\n",
    "import random\n",
    "import os\n",
    "\n",
    "import re\n",
    "from extract_tweets import clean_up_text\n",
    "\n",
    "import pickle\n",
    "\n",
    "SEED = 42\n",
    "\n",
    "tf.set_random_seed(SEED)\n",
    "tf.random_normal_initializer(SEED)\n",
    "tf.random_uniform_initializer(SEED)\n",
    "\n",
    "np.random.seed(SEED)\n",
    "\n",
    "random.seed(SEED)\n",
    "\n",
    "os.environ['PYTHONHASHSEED'] =  str(SEED)\n",
    "os.environ['CUDA_VISIBLE_DEVICES'] = str(SEED)\n",
    "os.environ['TF_CUDNN_USE_AUTOTUNE'] = str(SEED)\n",
    "\n",
    "session_conf = tf.ConfigProto(intra_op_parallelism_threads=1, inter_op_parallelism_threads=1)\n",
    "sess = tf.Session(graph=tf.get_default_graph(), config=session_conf)\n",
    "tf.keras.backend.set_session(sess)\n",
    "\n",
    "with open('Downloads/training.1600000.processed.noemoticon.csv', 'rb') as fopen:\n",
    "    file = fopen.readlines()\n",
    "\n",
    "inds = np.arange(len(file))\n",
    "np.random.shuffle(inds)\n",
    "file = np.array(file)[inds]\n",
    "\n",
    "X_raw = np.empty(len(file), dtype='object')\n",
    "y_raw = np.empty(len(file), dtype='int')\n",
    "j = 0\n",
    "fsdfklsd = 0\n",
    "for i,line in enumerate(file):\n",
    "    ls = str(line.decode(\"latin-1\")).split('\"')\n",
    "    \n",
    "    text = ls[-2]\n",
    "    \n",
    "    if ('http://' not in text) and ('https://' not in text):\n",
    "        \n",
    "        if fsdfklsd < 10:\n",
    "            print(text)\n",
    "            fsdfklsd += 1\n",
    "        \n",
    "        text = text.lower()\n",
    "        text = re.sub('&', ' <and> ', text)\n",
    "        text = re.sub('amp;', ' ', text)\n",
    "        text = re.sub(\"'n'\", ' <and> ', text)\n",
    "        text = re.sub(' and$', ' <and> ', text)\n",
    "        text = re.sub('^and ', ' <and> ', text)\n",
    "        text = re.sub(' and ', ' <and> ', text)\n",
    "        text = re.sub('…', ' <ellipsis> ', text)\n",
    "        text = re.sub('\\.\\.\\.', ' <ellipsis> ', text)\n",
    "        text = re.sub('@[a-z0-9]+', ' <handle> ', text)\n",
    "        text = re.sub('#[a-z0-9]+', ' <hashtag> ', text)\n",
    "        text = re.sub('@', ' <at> ', text)\n",
    "        text = re.sub('#', ' <pound> ', text)\n",
    "        text = re.sub('[\\!]', ' <exclam> ', text)\n",
    "        text = re.sub('[\\?]', ' <quest> ', text)\n",
    "        text = re.sub('[^\\w\\s\\'\\\"\\<\\>]', ' <punct> ', text)\n",
    "        text = clean_up_text(text)\n",
    "        \n",
    "        X_raw[j] = text\n",
    "        y_raw[j] = int(ls[1]) / 4\n",
    "        j += 1\n",
    "    \n",
    "X_raw = X_raw[:j][:100000]\n",
    "y_raw = y_raw[:j][:100000]\n",
    "\n",
    "with open('X_training.processed.noemoticon.csv', 'wb') as fp:\n",
    "    pickle.dump(X_raw, fp)\n",
    "with open('y_training.processed.noemoticon.csv', 'wb') as fp:\n",
    "    pickle.dump(y_raw, fp)\n",
    "\n",
    "X_raw[:10], y_raw[:10], np.unique(y_raw), len(y_raw)"
   ]
  },
  {
   "cell_type": "code",
   "execution_count": 2,
   "metadata": {},
   "outputs": [],
   "source": [
    "from collections import Counter\n",
    "import numpy as np\n",
    "import pickle\n",
    "with open('X_training.processed.noemoticon.csv', 'rb') as fp:\n",
    "    X_raw = [tweet for tweet in pickle.load(fp)]\n",
    "with open('y_training.processed.noemoticon.csv', 'rb') as fp:\n",
    "    y_raw = pickle.load(fp)\n",
    "\n",
    "batch_size = 64\n",
    "\n",
    "def split_tr_val_te(X):\n",
    "    percent_tr = 0.5\n",
    "    percent_val = 0.25\n",
    "\n",
    "    tr_size = batch_size*np.ceil(percent_tr*len(X)/batch_size)\n",
    "    tr_size = np.array(tr_size, dtype='int')\n",
    "    val_size = np.ceil(percent_val*(len(X)-tr_size)/(1-percent_tr))\n",
    "    val_size = np.array(val_size, dtype='int')\n",
    "    te_size = len(X) - tr_size - val_size\n",
    "\n",
    "    X_val = X[:val_size]\n",
    "    X_tr = X[val_size:-te_size]\n",
    "    X_te = X[-te_size:]\n",
    "    \n",
    "    return X_tr, X_val, X_te\n",
    "\n",
    "X_raw_tr, X_raw_val, X_raw_te = split_tr_val_te(X_raw)\n",
    "y_raw_tr, y_raw_val, y_raw_te = split_tr_val_te(y_raw)"
   ]
  },
  {
   "cell_type": "code",
   "execution_count": 3,
   "metadata": {},
   "outputs": [
    {
     "data": {
      "text/plain": [
       "(['jasmine',\n",
       "  'changed',\n",
       "  'the',\n",
       "  'channel',\n",
       "  'from',\n",
       "  'terminator',\n",
       "  '3',\n",
       "  'to',\n",
       "  'e',\n",
       "  '<exclam>',\n",
       "  'news'],\n",
       " ['<handle>',\n",
       "  'ahhh',\n",
       "  'i',\n",
       "  'hope',\n",
       "  'your',\n",
       "  'ok',\n",
       "  '<exclam>',\n",
       "  '<exclam>',\n",
       "  '<exclam>'],\n",
       " ['time',\n",
       "  'for',\n",
       "  'breakfast',\n",
       "  '<punct>',\n",
       "  'but',\n",
       "  'the',\n",
       "  'cafetaria',\n",
       "  'still',\n",
       "  'close',\n",
       "  '<exclam>',\n",
       "  '<exclam>',\n",
       "  'ugh',\n",
       "  '<punct>',\n",
       "  'waiting',\n",
       "  'in',\n",
       "  'starving',\n",
       "  '<exclam>'],\n",
       " array([0, 1]),\n",
       " array([0, 1]),\n",
       " array([0, 1]))"
      ]
     },
     "execution_count": 3,
     "metadata": {},
     "output_type": "execute_result"
    }
   ],
   "source": [
    "def split_tweets_into_words(X):\n",
    "    return [[word for word in tweet.split(' ')] for tweet in X]\n",
    "\n",
    "X_raw_tr = split_tweets_into_words(X_raw_tr)\n",
    "X_raw_val = split_tweets_into_words(X_raw_val)\n",
    "X_raw_te = split_tweets_into_words(X_raw_te)\n",
    "\n",
    "(X_raw_tr[0], X_raw_val[0], X_raw_te[0],\n",
    " np.unique(y_raw_tr), np.unique(y_raw_val), np.unique(y_raw_te))"
   ]
  },
  {
   "cell_type": "code",
   "execution_count": 4,
   "metadata": {},
   "outputs": [
    {
     "data": {
      "text/plain": [
       "(['bushfires',\n",
       "  'comeee',\n",
       "  'funniest',\n",
       "  'chipped',\n",
       "  'rabo',\n",
       "  'sebethy',\n",
       "  'vogs',\n",
       "  'waterboarding',\n",
       "  'thaaat',\n",
       "  'lagu'],\n",
       " 58741)"
      ]
     },
     "execution_count": 4,
     "metadata": {},
     "output_type": "execute_result"
    }
   ],
   "source": [
    "# get word counts and vocabulary size\n",
    "runonsentence = ' '.join([' '.join(tweet) for tweet in X_raw_tr]+\n",
    "                         [' '.join(tweet) for tweet in X_raw_val]+\n",
    "                         [' '.join(tweet) for tweet in X_raw_te]).split(' ')\n",
    "\n",
    "i = 0\n",
    "j = 0\n",
    "INCREMENT = 1000000\n",
    "words = set()\n",
    "while len(runonsentence[j:]) > 0:\n",
    "    words = words.union(runonsentence[j:j+INCREMENT])\n",
    "    i += 1\n",
    "    j = INCREMENT * i\n",
    "words = list(words)\n",
    "words[:10], len(words)"
   ]
  },
  {
   "cell_type": "code",
   "execution_count": 5,
   "metadata": {},
   "outputs": [
    {
     "name": "stdout",
     "output_type": "stream",
     "text": [
      "13.438177763402052 387.7905217838481\n",
      "11.771045777225448 245.5790121067454\n",
      "6.717675899286699 194.18401094676045\n",
      "5.8840503226026115 122.6399190999552\n",
      "6.719633646005345 193.40199927002055\n",
      "5.887131645698916 122.82356613146\n",
      "5055\n"
     ]
    },
    {
     "data": {
      "text/plain": [
       "(5056, 115658)"
      ]
     },
     "execution_count": 5,
     "metadata": {},
     "output_type": "execute_result"
    }
   ],
   "source": [
    "def get_counts_adv(X):\n",
    "    d1 = dict(zip(words,[0]*len(words)))\n",
    "    d2 = dict(zip(words,[0]*len(words)))\n",
    "    d3 = dict(zip(words,[0]*len(words)))\n",
    "    \n",
    "    for x in X:\n",
    "        for w in x:\n",
    "            d1[w] += 1\n",
    "    m1 = np.mean(list(d1.values()))\n",
    "    sd1 = np.std(list(d1.values()))\n",
    "    print(m1,sd1)\n",
    "    \n",
    "    for x in X:\n",
    "        d = Counter()\n",
    "        for w in x:\n",
    "            d[w] = 1\n",
    "        for w in d:\n",
    "            d2[w] += d[w]\n",
    "    m2 = np.mean(list(d2.values()))\n",
    "    sd2 = np.std(list(d2.values()))\n",
    "    print(m2,sd2)\n",
    "    \n",
    "    for w in set(w for x in X for w in x):\n",
    "        d3[w] = np.exp((d2[w] - m2) / sd2 - 0.1 * (d1[w] - m1) / sd1)\n",
    "\n",
    "    return d3\n",
    "\n",
    "wc_tr = get_counts_adv(X_raw_tr)\n",
    "wc_val = get_counts_adv(X_raw_val)\n",
    "wc_te = get_counts_adv(X_raw_te)\n",
    "\n",
    "for w in words:\n",
    "    if wc_tr[w]*wc_val[w]*wc_te[w]==0:\n",
    "        del wc_tr[w]\n",
    "        del wc_val[w]\n",
    "        del wc_te[w]\n",
    "\n",
    "def get_most_frequent_keys(d,n):\n",
    "    a = np.array(list(d.values()),dtype='float')\n",
    "    a -= np.nanmin(a)\n",
    "    N = min(n,len(d))\n",
    "    p = min(a[np.argpartition(a,-N)][-N:])\n",
    "    inds = a >= 0.9 * p\n",
    "    d = dict(np.array(list(d.items()))[inds])\n",
    "    for k in d:\n",
    "        d[k] = float(d[k])\n",
    "    return d\n",
    "\n",
    "vocab = get_most_frequent_keys(wc_tr,5000)\n",
    "print(len(vocab))\n",
    "\n",
    "def get_counts(i):\n",
    "    d = Counter()\n",
    "    for j in i:\n",
    "        d[j] += 1\n",
    "    return d\n",
    "\n",
    "runonsentence = [w if w in vocab else '<UNK>' for w in runonsentence]\n",
    "word_counts = get_counts(runonsentence)\n",
    "    \n",
    "assert(min(list(word_counts.values())) > 1)\n",
    "\n",
    "vocabulary_size = len(word_counts)\n",
    "\n",
    "vocabulary_size, word_counts['<UNK>']"
   ]
  },
  {
   "cell_type": "code",
   "execution_count": 6,
   "metadata": {},
   "outputs": [],
   "source": [
    "T=np.array([(0,len(x)) for x in X_raw_tr]+\n",
    "           [(1,len(x)) for x in X_raw_val]+\n",
    "           [(2,len(x)) for x in X_raw_te])\n",
    "T=np.vstack([T.T,np.arange(len(T))]).T\n",
    "tr=len(X_raw_tr)\n",
    "val=len(X_raw_val)\n",
    "T[:,2][tr:] -= tr\n",
    "T[:,2][tr+val:] -= val\n",
    "\n",
    "i = 0\n",
    "for t in T:\n",
    "    for j in range(t[1]):\n",
    "        if t[0] == 0:\n",
    "            X_raw_tr[t[2]][j] = runonsentence[i]\n",
    "        elif t[0] == 1:\n",
    "            X_raw_val[t[2]][j] = runonsentence[i]\n",
    "        else:\n",
    "            X_raw_te[t[2]][j] = runonsentence[i]\n",
    "        i += 1"
   ]
  },
  {
   "cell_type": "code",
   "execution_count": 7,
   "metadata": {},
   "outputs": [
    {
     "data": {
      "text/plain": [
       "(array([[ 0,  0,  0, ...,  8,  9, 10],\n",
       "        [ 0,  0,  0, ..., 19, 20, 21],\n",
       "        [ 0,  0,  0, ..., 34, 35, 17],\n",
       "        ...,\n",
       "        [ 0,  0,  0, ..., 62, 63,  9],\n",
       "        [ 0,  0,  0, ..., 67, 68,  0],\n",
       "        [ 0,  0,  0, ..., 20, 75, 34]], dtype=int32),\n",
       " array([0, 1, 0, 1, 1, 0, 1, 1, 0, 1]),\n",
       " 171)"
      ]
     },
     "execution_count": 7,
     "metadata": {},
     "output_type": "execute_result"
    }
   ],
   "source": [
    "from tensorflow.keras.preprocessing import sequence\n",
    "# from tensorflow.keras.utils import to_categorical\n",
    "\n",
    "word2id = {word:i for i, word in enumerate(word_counts)}\n",
    "\n",
    "def convert_to_id(X_raw):\n",
    "    return [[word2id[word] for word in tweet] for tweet in X_raw]\n",
    "\n",
    "def convert_to_one_hot(y):\n",
    "    #return enc.transform(np.array(y_raw).reshape(-1,1)).toarray()\n",
    "    n_classes = len(set(y))\n",
    "    assert(n_classes > 1)\n",
    "    return y if n_classes == 2 else to_categorical(y, num_classes=n_classes)\n",
    "\n",
    "max_words = max([len(x) for x in X_raw_tr])\n",
    "\n",
    "X_tr= sequence.pad_sequences(convert_to_id(X_raw_tr), maxlen=max_words)\n",
    "X_val = sequence.pad_sequences(convert_to_id(X_raw_val), maxlen=max_words)\n",
    "X_te = sequence.pad_sequences(convert_to_id(X_raw_te), maxlen=max_words)\n",
    "\n",
    "y_tr = convert_to_one_hot(y_raw_tr)\n",
    "y_val = convert_to_one_hot(y_raw_val)\n",
    "y_te = convert_to_one_hot(y_raw_te)\n",
    "\n",
    "X_tr[:10], y_tr[:10], max_words"
   ]
  },
  {
   "cell_type": "code",
   "execution_count": 8,
   "metadata": {
    "scrolled": true
   },
   "outputs": [
    {
     "name": "stdout",
     "output_type": "stream",
     "text": [
      "0.0\n"
     ]
    },
    {
     "data": {
      "text/plain": [
       "{0: 0.9854296290462314, 1: 1.0150077066601768}"
      ]
     },
     "execution_count": 8,
     "metadata": {},
     "output_type": "execute_result"
    }
   ],
   "source": [
    "from sklearn.utils import class_weight\n",
    "class_weights = class_weight.compute_class_weight('balanced',\n",
    "                                                  classes=[0,1],\n",
    "                                                  y=y_tr)\n",
    "# class_weights = class_weight.compute_class_weight('balanced',\n",
    "#                                                   classes=np.arange(len(y_tr[0]))-1,\n",
    "#                                                   y=_y_tr)\n",
    "\n",
    "print(np.sum([y_tr==0])*class_weights[0]-np.sum(y_tr[y_tr==1])*class_weights[1])\n",
    "\n",
    "class_weights = {i:w for i,w in zip(range(len(y_tr)),class_weights)}\n",
    "\n",
    "class_weights"
   ]
  },
  {
   "cell_type": "code",
   "execution_count": 107,
   "metadata": {},
   "outputs": [
    {
     "name": "stdout",
     "output_type": "stream",
     "text": [
      "0.5318837662329599\n",
      "Model: \"functional_161\"\n",
      "_________________________________________________________________\n",
      "Layer (type)                 Output Shape              Param #   \n",
      "=================================================================\n",
      "input_83 (InputLayer)        [(None, None)]            0         \n",
      "_________________________________________________________________\n",
      "embedding_84 (Embedding)     (None, None, 32)          161792    \n",
      "_________________________________________________________________\n",
      "lstm_332 (LSTM)              (None, None, 10)          1720      \n",
      "_________________________________________________________________\n",
      "bidirectional_82 (Bidirectio (None, None, 10)          640       \n",
      "_________________________________________________________________\n",
      "lstm_335 (LSTM)              (None, 10)                840       \n",
      "_________________________________________________________________\n",
      "batch_normalization_81 (Batc (None, 10)                40        \n",
      "_________________________________________________________________\n",
      "dense_161 (Dense)            (None, 428)               4708      \n",
      "_________________________________________________________________\n",
      "dropout_80 (Dropout)         (None, 428)               0         \n",
      "_________________________________________________________________\n",
      "dense_162 (Dense)            (None, 1)                 429       \n",
      "=================================================================\n",
      "Total params: 170,169\n",
      "Trainable params: 170,149\n",
      "Non-trainable params: 20\n",
      "_________________________________________________________________\n"
     ]
    }
   ],
   "source": [
    "from tensorflow.keras import initializers\n",
    "from tensorflow.keras import Model\n",
    "from tensorflow.keras.layers import (\n",
    "    Input, Embedding, LSTM, Bidirectional, BatchNormalization, Dense, Dropout\n",
    ")\n",
    "from tensorflow.keras.regularizers import l1_l2\n",
    "\n",
    "num_classes = len(class_weights)\n",
    "embedding_size = 32\n",
    "d = num_classes * np.sqrt(vocabulary_size * embedding_size)\n",
    "\n",
    "num_samples = len(X_tr)\n",
    "training_coeff = (1 / (1 + np.exp(-num_samples/7000))) ** d\n",
    "print(training_coeff)\n",
    "\n",
    "lstm_units = int(np.ceil(np.log2(d)))\n",
    "dense_units = int(np.ceil(training_coeff * d))\n",
    "\n",
    "units_a = lstm_units\n",
    "units_a_backward = lstm_units // 2\n",
    "units_a_forward = lstm_units - units_a_backward\n",
    "units_b = lstm_units\n",
    "units_c = dense_units\n",
    "\n",
    "dropout_dense = 0.2\n",
    "dropout_lstm = 1 - np.sqrt(1 - dropout_dense)\n",
    "dropout_bidir = 1 - np.sqrt(1 - dropout_lstm)\n",
    "\n",
    "\n",
    "inputs = Input(batch_input_shape=(None, None))\n",
    "\n",
    "x = Embedding(vocabulary_size, embedding_size, input_length=max_words)(inputs)\n",
    "\n",
    "x = LSTM(units=units_a, return_sequences=True,\n",
    "         dropout=dropout_lstm, recurrent_dropout=dropout_lstm)(x)\n",
    "\n",
    "forward_layer  = LSTM(units=units_a_forward,  return_sequences=True,\n",
    "                      dropout=dropout_bidir, recurrent_dropout=dropout_bidir,\n",
    "                      recurrent_activation='softmax')\n",
    "backward_layer = LSTM(units=units_a_backward, return_sequences=True,\n",
    "                      dropout=dropout_bidir, recurrent_dropout=dropout_bidir,\n",
    "                      activation='softsign',\n",
    "                      go_backwards=True)\n",
    "x = Bidirectional(layer=forward_layer, backward_layer=backward_layer)(x)\n",
    "\n",
    "x = LSTM(units=units_b, dropout=dropout_lstm, recurrent_dropout=dropout_lstm)(x)\n",
    "\n",
    "x = BatchNormalization(gamma_regularizer=l1_l2(l1=1, l2=1),\n",
    "                       beta_regularizer=l1_l2(l1=1, l2=1))(x)\n",
    "\n",
    "x = Dense(units=units_c, activation='relu')(x)\n",
    "\n",
    "x = Dropout(dropout_dense)(x)\n",
    "\n",
    "outputs = Dense(units=1 if num_classes == 2 else num_classes,\n",
    "                       activation='sigmoid'if num_classes == 2 else 'softmax')(x)\n",
    "\n",
    "model=Model(inputs=inputs, outputs=outputs)\n",
    "\n",
    "model.summary()"
   ]
  },
  {
   "cell_type": "code",
   "execution_count": 108,
   "metadata": {},
   "outputs": [],
   "source": [
    "loss = 'binary_crossentropy' if num_classes == 2 else 'categorical_crossentropy'\n",
    "model.compile(loss=loss, optimizer='adam', metrics=['accuracy'])"
   ]
  },
  {
   "cell_type": "code",
   "execution_count": 109,
   "metadata": {
    "scrolled": true
   },
   "outputs": [
    {
     "name": "stdout",
     "output_type": "stream",
     "text": [
      "50048\n",
      "Epoch 1/25\n",
      "782/782 [==============================] - ETA: 0s - loss: 11.4382 - accuracy: 0.7461\n",
      "Epoch 00001: val_accuracy improved from -inf to 0.75973, saving model to temp.hdf5\n",
      "782/782 [==============================] - 194s 248ms/step - loss: 11.4382 - accuracy: 0.7461 - val_loss: 4.6613 - val_accuracy: 0.7597\n",
      "Epoch 2/25\n",
      "782/782 [==============================] - ETA: 0s - loss: 1.6214 - accuracy: 0.7962\n",
      "Epoch 00002: val_accuracy improved from 0.75973 to 0.78067, saving model to temp.hdf5\n",
      "782/782 [==============================] - 205s 262ms/step - loss: 1.6214 - accuracy: 0.7962 - val_loss: 0.5108 - val_accuracy: 0.7807\n",
      "Epoch 3/25\n",
      "240/782 [========>.....................] - ETA: 2:13 - loss: 0.4584 - accuracy: 0.8179"
     ]
    },
    {
     "ename": "KeyboardInterrupt",
     "evalue": "",
     "output_type": "error",
     "traceback": [
      "\u001b[0;31m---------------------------------------------------------------------------\u001b[0m",
      "\u001b[0;31mKeyboardInterrupt\u001b[0m                         Traceback (most recent call last)",
      "\u001b[0;32m<ipython-input-109-61021823cff2>\u001b[0m in \u001b[0;36m<module>\u001b[0;34m\u001b[0m\n\u001b[1;32m      5\u001b[0m \u001b[0mnum_epochs\u001b[0m \u001b[0;34m=\u001b[0m \u001b[0;36m25\u001b[0m\u001b[0;34m\u001b[0m\u001b[0;34m\u001b[0m\u001b[0m\n\u001b[1;32m      6\u001b[0m \u001b[0mprint\u001b[0m\u001b[0;34m(\u001b[0m\u001b[0mlen\u001b[0m\u001b[0;34m(\u001b[0m\u001b[0mX_tr\u001b[0m\u001b[0;34m)\u001b[0m\u001b[0;34m)\u001b[0m\u001b[0;34m\u001b[0m\u001b[0;34m\u001b[0m\u001b[0m\n\u001b[0;32m----> 7\u001b[0;31m model.fit(X_tr, y_tr, validation_data=(X_val, y_val), batch_size=batch_size,\n\u001b[0m\u001b[1;32m      8\u001b[0m           epochs=num_epochs, class_weight=class_weights, callbacks=[checkpoint])\n",
      "\u001b[0;32m~/.local/lib/python3.8/site-packages/tensorflow/python/keras/engine/training.py\u001b[0m in \u001b[0;36m_method_wrapper\u001b[0;34m(self, *args, **kwargs)\u001b[0m\n\u001b[1;32m    106\u001b[0m   \u001b[0;32mdef\u001b[0m \u001b[0m_method_wrapper\u001b[0m\u001b[0;34m(\u001b[0m\u001b[0mself\u001b[0m\u001b[0;34m,\u001b[0m \u001b[0;34m*\u001b[0m\u001b[0margs\u001b[0m\u001b[0;34m,\u001b[0m \u001b[0;34m**\u001b[0m\u001b[0mkwargs\u001b[0m\u001b[0;34m)\u001b[0m\u001b[0;34m:\u001b[0m\u001b[0;34m\u001b[0m\u001b[0;34m\u001b[0m\u001b[0m\n\u001b[1;32m    107\u001b[0m     \u001b[0;32mif\u001b[0m \u001b[0;32mnot\u001b[0m \u001b[0mself\u001b[0m\u001b[0;34m.\u001b[0m\u001b[0m_in_multi_worker_mode\u001b[0m\u001b[0;34m(\u001b[0m\u001b[0;34m)\u001b[0m\u001b[0;34m:\u001b[0m  \u001b[0;31m# pylint: disable=protected-access\u001b[0m\u001b[0;34m\u001b[0m\u001b[0;34m\u001b[0m\u001b[0m\n\u001b[0;32m--> 108\u001b[0;31m       \u001b[0;32mreturn\u001b[0m \u001b[0mmethod\u001b[0m\u001b[0;34m(\u001b[0m\u001b[0mself\u001b[0m\u001b[0;34m,\u001b[0m \u001b[0;34m*\u001b[0m\u001b[0margs\u001b[0m\u001b[0;34m,\u001b[0m \u001b[0;34m**\u001b[0m\u001b[0mkwargs\u001b[0m\u001b[0;34m)\u001b[0m\u001b[0;34m\u001b[0m\u001b[0;34m\u001b[0m\u001b[0m\n\u001b[0m\u001b[1;32m    109\u001b[0m \u001b[0;34m\u001b[0m\u001b[0m\n\u001b[1;32m    110\u001b[0m     \u001b[0;31m# Running inside `run_distribute_coordinator` already.\u001b[0m\u001b[0;34m\u001b[0m\u001b[0;34m\u001b[0m\u001b[0;34m\u001b[0m\u001b[0m\n",
      "\u001b[0;32m~/.local/lib/python3.8/site-packages/tensorflow/python/keras/engine/training.py\u001b[0m in \u001b[0;36mfit\u001b[0;34m(self, x, y, batch_size, epochs, verbose, callbacks, validation_split, validation_data, shuffle, class_weight, sample_weight, initial_epoch, steps_per_epoch, validation_steps, validation_batch_size, validation_freq, max_queue_size, workers, use_multiprocessing)\u001b[0m\n\u001b[1;32m   1101\u001b[0m               \u001b[0mlogs\u001b[0m \u001b[0;34m=\u001b[0m \u001b[0mtmp_logs\u001b[0m  \u001b[0;31m# No error, now safe to assign to logs.\u001b[0m\u001b[0;34m\u001b[0m\u001b[0;34m\u001b[0m\u001b[0m\n\u001b[1;32m   1102\u001b[0m               \u001b[0mend_step\u001b[0m \u001b[0;34m=\u001b[0m \u001b[0mstep\u001b[0m \u001b[0;34m+\u001b[0m \u001b[0mdata_handler\u001b[0m\u001b[0;34m.\u001b[0m\u001b[0mstep_increment\u001b[0m\u001b[0;34m\u001b[0m\u001b[0;34m\u001b[0m\u001b[0m\n\u001b[0;32m-> 1103\u001b[0;31m               \u001b[0mcallbacks\u001b[0m\u001b[0;34m.\u001b[0m\u001b[0mon_train_batch_end\u001b[0m\u001b[0;34m(\u001b[0m\u001b[0mend_step\u001b[0m\u001b[0;34m,\u001b[0m \u001b[0mlogs\u001b[0m\u001b[0;34m)\u001b[0m\u001b[0;34m\u001b[0m\u001b[0;34m\u001b[0m\u001b[0m\n\u001b[0m\u001b[1;32m   1104\u001b[0m         \u001b[0mepoch_logs\u001b[0m \u001b[0;34m=\u001b[0m \u001b[0mcopy\u001b[0m\u001b[0;34m.\u001b[0m\u001b[0mcopy\u001b[0m\u001b[0;34m(\u001b[0m\u001b[0mlogs\u001b[0m\u001b[0;34m)\u001b[0m\u001b[0;34m\u001b[0m\u001b[0;34m\u001b[0m\u001b[0m\n\u001b[1;32m   1105\u001b[0m \u001b[0;34m\u001b[0m\u001b[0m\n",
      "\u001b[0;32m~/.local/lib/python3.8/site-packages/tensorflow/python/keras/callbacks.py\u001b[0m in \u001b[0;36mon_train_batch_end\u001b[0;34m(self, batch, logs)\u001b[0m\n\u001b[1;32m    438\u001b[0m     \"\"\"\n\u001b[1;32m    439\u001b[0m     \u001b[0;32mif\u001b[0m \u001b[0mself\u001b[0m\u001b[0;34m.\u001b[0m\u001b[0m_should_call_train_batch_hooks\u001b[0m\u001b[0;34m:\u001b[0m\u001b[0;34m\u001b[0m\u001b[0;34m\u001b[0m\u001b[0m\n\u001b[0;32m--> 440\u001b[0;31m       \u001b[0mself\u001b[0m\u001b[0;34m.\u001b[0m\u001b[0m_call_batch_hook\u001b[0m\u001b[0;34m(\u001b[0m\u001b[0mModeKeys\u001b[0m\u001b[0;34m.\u001b[0m\u001b[0mTRAIN\u001b[0m\u001b[0;34m,\u001b[0m \u001b[0;34m'end'\u001b[0m\u001b[0;34m,\u001b[0m \u001b[0mbatch\u001b[0m\u001b[0;34m,\u001b[0m \u001b[0mlogs\u001b[0m\u001b[0;34m=\u001b[0m\u001b[0mlogs\u001b[0m\u001b[0;34m)\u001b[0m\u001b[0;34m\u001b[0m\u001b[0;34m\u001b[0m\u001b[0m\n\u001b[0m\u001b[1;32m    441\u001b[0m \u001b[0;34m\u001b[0m\u001b[0m\n\u001b[1;32m    442\u001b[0m   \u001b[0;32mdef\u001b[0m \u001b[0mon_test_batch_begin\u001b[0m\u001b[0;34m(\u001b[0m\u001b[0mself\u001b[0m\u001b[0;34m,\u001b[0m \u001b[0mbatch\u001b[0m\u001b[0;34m,\u001b[0m \u001b[0mlogs\u001b[0m\u001b[0;34m=\u001b[0m\u001b[0;32mNone\u001b[0m\u001b[0;34m)\u001b[0m\u001b[0;34m:\u001b[0m\u001b[0;34m\u001b[0m\u001b[0;34m\u001b[0m\u001b[0m\n",
      "\u001b[0;32m~/.local/lib/python3.8/site-packages/tensorflow/python/keras/callbacks.py\u001b[0m in \u001b[0;36m_call_batch_hook\u001b[0;34m(self, mode, hook, batch, logs)\u001b[0m\n\u001b[1;32m    287\u001b[0m       \u001b[0mself\u001b[0m\u001b[0;34m.\u001b[0m\u001b[0m_call_batch_begin_hook\u001b[0m\u001b[0;34m(\u001b[0m\u001b[0mmode\u001b[0m\u001b[0;34m,\u001b[0m \u001b[0mbatch\u001b[0m\u001b[0;34m,\u001b[0m \u001b[0mlogs\u001b[0m\u001b[0;34m)\u001b[0m\u001b[0;34m\u001b[0m\u001b[0;34m\u001b[0m\u001b[0m\n\u001b[1;32m    288\u001b[0m     \u001b[0;32melif\u001b[0m \u001b[0mhook\u001b[0m \u001b[0;34m==\u001b[0m \u001b[0;34m'end'\u001b[0m\u001b[0;34m:\u001b[0m\u001b[0;34m\u001b[0m\u001b[0;34m\u001b[0m\u001b[0m\n\u001b[0;32m--> 289\u001b[0;31m       \u001b[0mself\u001b[0m\u001b[0;34m.\u001b[0m\u001b[0m_call_batch_end_hook\u001b[0m\u001b[0;34m(\u001b[0m\u001b[0mmode\u001b[0m\u001b[0;34m,\u001b[0m \u001b[0mbatch\u001b[0m\u001b[0;34m,\u001b[0m \u001b[0mlogs\u001b[0m\u001b[0;34m)\u001b[0m\u001b[0;34m\u001b[0m\u001b[0;34m\u001b[0m\u001b[0m\n\u001b[0m\u001b[1;32m    290\u001b[0m     \u001b[0;32melse\u001b[0m\u001b[0;34m:\u001b[0m\u001b[0;34m\u001b[0m\u001b[0;34m\u001b[0m\u001b[0m\n\u001b[1;32m    291\u001b[0m       \u001b[0;32mraise\u001b[0m \u001b[0mValueError\u001b[0m\u001b[0;34m(\u001b[0m\u001b[0;34m'Unrecognized hook: {}'\u001b[0m\u001b[0;34m.\u001b[0m\u001b[0mformat\u001b[0m\u001b[0;34m(\u001b[0m\u001b[0mhook\u001b[0m\u001b[0;34m)\u001b[0m\u001b[0;34m)\u001b[0m\u001b[0;34m\u001b[0m\u001b[0;34m\u001b[0m\u001b[0m\n",
      "\u001b[0;32m~/.local/lib/python3.8/site-packages/tensorflow/python/keras/callbacks.py\u001b[0m in \u001b[0;36m_call_batch_end_hook\u001b[0;34m(self, mode, batch, logs)\u001b[0m\n\u001b[1;32m    307\u001b[0m       \u001b[0mbatch_time\u001b[0m \u001b[0;34m=\u001b[0m \u001b[0mtime\u001b[0m\u001b[0;34m.\u001b[0m\u001b[0mtime\u001b[0m\u001b[0;34m(\u001b[0m\u001b[0;34m)\u001b[0m \u001b[0;34m-\u001b[0m \u001b[0mself\u001b[0m\u001b[0;34m.\u001b[0m\u001b[0m_batch_start_time\u001b[0m\u001b[0;34m\u001b[0m\u001b[0;34m\u001b[0m\u001b[0m\n\u001b[1;32m    308\u001b[0m \u001b[0;34m\u001b[0m\u001b[0m\n\u001b[0;32m--> 309\u001b[0;31m     \u001b[0mself\u001b[0m\u001b[0;34m.\u001b[0m\u001b[0m_call_batch_hook_helper\u001b[0m\u001b[0;34m(\u001b[0m\u001b[0mhook_name\u001b[0m\u001b[0;34m,\u001b[0m \u001b[0mbatch\u001b[0m\u001b[0;34m,\u001b[0m \u001b[0mlogs\u001b[0m\u001b[0;34m)\u001b[0m\u001b[0;34m\u001b[0m\u001b[0;34m\u001b[0m\u001b[0m\n\u001b[0m\u001b[1;32m    310\u001b[0m \u001b[0;34m\u001b[0m\u001b[0m\n\u001b[1;32m    311\u001b[0m     \u001b[0;32mif\u001b[0m \u001b[0mself\u001b[0m\u001b[0;34m.\u001b[0m\u001b[0m_check_timing\u001b[0m\u001b[0;34m:\u001b[0m\u001b[0;34m\u001b[0m\u001b[0;34m\u001b[0m\u001b[0m\n",
      "\u001b[0;32m~/.local/lib/python3.8/site-packages/tensorflow/python/keras/callbacks.py\u001b[0m in \u001b[0;36m_call_batch_hook_helper\u001b[0;34m(self, hook_name, batch, logs)\u001b[0m\n\u001b[1;32m    340\u001b[0m       \u001b[0mhook\u001b[0m \u001b[0;34m=\u001b[0m \u001b[0mgetattr\u001b[0m\u001b[0;34m(\u001b[0m\u001b[0mcallback\u001b[0m\u001b[0;34m,\u001b[0m \u001b[0mhook_name\u001b[0m\u001b[0;34m)\u001b[0m\u001b[0;34m\u001b[0m\u001b[0;34m\u001b[0m\u001b[0m\n\u001b[1;32m    341\u001b[0m       \u001b[0;32mif\u001b[0m \u001b[0mgetattr\u001b[0m\u001b[0;34m(\u001b[0m\u001b[0mcallback\u001b[0m\u001b[0;34m,\u001b[0m \u001b[0;34m'_supports_tf_logs'\u001b[0m\u001b[0;34m,\u001b[0m \u001b[0;32mFalse\u001b[0m\u001b[0;34m)\u001b[0m\u001b[0;34m:\u001b[0m\u001b[0;34m\u001b[0m\u001b[0;34m\u001b[0m\u001b[0m\n\u001b[0;32m--> 342\u001b[0;31m         \u001b[0mhook\u001b[0m\u001b[0;34m(\u001b[0m\u001b[0mbatch\u001b[0m\u001b[0;34m,\u001b[0m \u001b[0mlogs\u001b[0m\u001b[0;34m)\u001b[0m\u001b[0;34m\u001b[0m\u001b[0;34m\u001b[0m\u001b[0m\n\u001b[0m\u001b[1;32m    343\u001b[0m       \u001b[0;32melse\u001b[0m\u001b[0;34m:\u001b[0m\u001b[0;34m\u001b[0m\u001b[0;34m\u001b[0m\u001b[0m\n\u001b[1;32m    344\u001b[0m         \u001b[0;32mif\u001b[0m \u001b[0mnumpy_logs\u001b[0m \u001b[0;32mis\u001b[0m \u001b[0;32mNone\u001b[0m\u001b[0;34m:\u001b[0m  \u001b[0;31m# Only convert once.\u001b[0m\u001b[0;34m\u001b[0m\u001b[0;34m\u001b[0m\u001b[0m\n",
      "\u001b[0;32m~/.local/lib/python3.8/site-packages/tensorflow/python/keras/callbacks.py\u001b[0m in \u001b[0;36mon_train_batch_end\u001b[0;34m(self, batch, logs)\u001b[0m\n\u001b[1;32m    959\u001b[0m \u001b[0;34m\u001b[0m\u001b[0m\n\u001b[1;32m    960\u001b[0m   \u001b[0;32mdef\u001b[0m \u001b[0mon_train_batch_end\u001b[0m\u001b[0;34m(\u001b[0m\u001b[0mself\u001b[0m\u001b[0;34m,\u001b[0m \u001b[0mbatch\u001b[0m\u001b[0;34m,\u001b[0m \u001b[0mlogs\u001b[0m\u001b[0;34m=\u001b[0m\u001b[0;32mNone\u001b[0m\u001b[0;34m)\u001b[0m\u001b[0;34m:\u001b[0m\u001b[0;34m\u001b[0m\u001b[0;34m\u001b[0m\u001b[0m\n\u001b[0;32m--> 961\u001b[0;31m     \u001b[0mself\u001b[0m\u001b[0;34m.\u001b[0m\u001b[0m_batch_update_progbar\u001b[0m\u001b[0;34m(\u001b[0m\u001b[0mbatch\u001b[0m\u001b[0;34m,\u001b[0m \u001b[0mlogs\u001b[0m\u001b[0;34m)\u001b[0m\u001b[0;34m\u001b[0m\u001b[0;34m\u001b[0m\u001b[0m\n\u001b[0m\u001b[1;32m    962\u001b[0m \u001b[0;34m\u001b[0m\u001b[0m\n\u001b[1;32m    963\u001b[0m   \u001b[0;32mdef\u001b[0m \u001b[0mon_test_batch_end\u001b[0m\u001b[0;34m(\u001b[0m\u001b[0mself\u001b[0m\u001b[0;34m,\u001b[0m \u001b[0mbatch\u001b[0m\u001b[0;34m,\u001b[0m \u001b[0mlogs\u001b[0m\u001b[0;34m=\u001b[0m\u001b[0;32mNone\u001b[0m\u001b[0;34m)\u001b[0m\u001b[0;34m:\u001b[0m\u001b[0;34m\u001b[0m\u001b[0;34m\u001b[0m\u001b[0m\n",
      "\u001b[0;32m~/.local/lib/python3.8/site-packages/tensorflow/python/keras/callbacks.py\u001b[0m in \u001b[0;36m_batch_update_progbar\u001b[0;34m(self, batch, logs)\u001b[0m\n\u001b[1;32m   1015\u001b[0m       \u001b[0;31m# Only block async when verbose = 1.\u001b[0m\u001b[0;34m\u001b[0m\u001b[0;34m\u001b[0m\u001b[0;34m\u001b[0m\u001b[0m\n\u001b[1;32m   1016\u001b[0m       \u001b[0mlogs\u001b[0m \u001b[0;34m=\u001b[0m \u001b[0mtf_utils\u001b[0m\u001b[0;34m.\u001b[0m\u001b[0mto_numpy_or_python_type\u001b[0m\u001b[0;34m(\u001b[0m\u001b[0mlogs\u001b[0m\u001b[0;34m)\u001b[0m\u001b[0;34m\u001b[0m\u001b[0;34m\u001b[0m\u001b[0m\n\u001b[0;32m-> 1017\u001b[0;31m       \u001b[0mself\u001b[0m\u001b[0;34m.\u001b[0m\u001b[0mprogbar\u001b[0m\u001b[0;34m.\u001b[0m\u001b[0mupdate\u001b[0m\u001b[0;34m(\u001b[0m\u001b[0mself\u001b[0m\u001b[0;34m.\u001b[0m\u001b[0mseen\u001b[0m\u001b[0;34m,\u001b[0m \u001b[0mlist\u001b[0m\u001b[0;34m(\u001b[0m\u001b[0mlogs\u001b[0m\u001b[0;34m.\u001b[0m\u001b[0mitems\u001b[0m\u001b[0;34m(\u001b[0m\u001b[0;34m)\u001b[0m\u001b[0;34m)\u001b[0m\u001b[0;34m,\u001b[0m \u001b[0mfinalize\u001b[0m\u001b[0;34m=\u001b[0m\u001b[0;32mFalse\u001b[0m\u001b[0;34m)\u001b[0m\u001b[0;34m\u001b[0m\u001b[0;34m\u001b[0m\u001b[0m\n\u001b[0m\u001b[1;32m   1018\u001b[0m \u001b[0;34m\u001b[0m\u001b[0m\n\u001b[1;32m   1019\u001b[0m   \u001b[0;32mdef\u001b[0m \u001b[0m_finalize_progbar\u001b[0m\u001b[0;34m(\u001b[0m\u001b[0mself\u001b[0m\u001b[0;34m,\u001b[0m \u001b[0mlogs\u001b[0m\u001b[0;34m)\u001b[0m\u001b[0;34m:\u001b[0m\u001b[0;34m\u001b[0m\u001b[0;34m\u001b[0m\u001b[0m\n",
      "\u001b[0;32m~/.local/lib/python3.8/site-packages/tensorflow/python/keras/utils/generic_utils.py\u001b[0m in \u001b[0;36mupdate\u001b[0;34m(self, current, values, finalize)\u001b[0m\n\u001b[1;32m    640\u001b[0m \u001b[0;34m\u001b[0m\u001b[0m\n\u001b[1;32m    641\u001b[0m       \u001b[0msys\u001b[0m\u001b[0;34m.\u001b[0m\u001b[0mstdout\u001b[0m\u001b[0;34m.\u001b[0m\u001b[0mwrite\u001b[0m\u001b[0;34m(\u001b[0m\u001b[0minfo\u001b[0m\u001b[0;34m)\u001b[0m\u001b[0;34m\u001b[0m\u001b[0;34m\u001b[0m\u001b[0m\n\u001b[0;32m--> 642\u001b[0;31m       \u001b[0msys\u001b[0m\u001b[0;34m.\u001b[0m\u001b[0mstdout\u001b[0m\u001b[0;34m.\u001b[0m\u001b[0mflush\u001b[0m\u001b[0;34m(\u001b[0m\u001b[0;34m)\u001b[0m\u001b[0;34m\u001b[0m\u001b[0;34m\u001b[0m\u001b[0m\n\u001b[0m\u001b[1;32m    643\u001b[0m \u001b[0;34m\u001b[0m\u001b[0m\n\u001b[1;32m    644\u001b[0m     \u001b[0;32melif\u001b[0m \u001b[0mself\u001b[0m\u001b[0;34m.\u001b[0m\u001b[0mverbose\u001b[0m \u001b[0;34m==\u001b[0m \u001b[0;36m2\u001b[0m\u001b[0;34m:\u001b[0m\u001b[0;34m\u001b[0m\u001b[0;34m\u001b[0m\u001b[0m\n",
      "\u001b[0;32m~/.local/lib/python3.8/site-packages/ipykernel/iostream.py\u001b[0m in \u001b[0;36mflush\u001b[0;34m(self)\u001b[0m\n\u001b[1;32m    349\u001b[0m                 \u001b[0mself\u001b[0m\u001b[0;34m.\u001b[0m\u001b[0mpub_thread\u001b[0m\u001b[0;34m.\u001b[0m\u001b[0mschedule\u001b[0m\u001b[0;34m(\u001b[0m\u001b[0mevt\u001b[0m\u001b[0;34m.\u001b[0m\u001b[0mset\u001b[0m\u001b[0;34m)\u001b[0m\u001b[0;34m\u001b[0m\u001b[0;34m\u001b[0m\u001b[0m\n\u001b[1;32m    350\u001b[0m                 \u001b[0;31m# and give a timeout to avoid\u001b[0m\u001b[0;34m\u001b[0m\u001b[0;34m\u001b[0m\u001b[0;34m\u001b[0m\u001b[0m\n\u001b[0;32m--> 351\u001b[0;31m                 \u001b[0;32mif\u001b[0m \u001b[0;32mnot\u001b[0m \u001b[0mevt\u001b[0m\u001b[0;34m.\u001b[0m\u001b[0mwait\u001b[0m\u001b[0;34m(\u001b[0m\u001b[0mself\u001b[0m\u001b[0;34m.\u001b[0m\u001b[0mflush_timeout\u001b[0m\u001b[0;34m)\u001b[0m\u001b[0;34m:\u001b[0m\u001b[0;34m\u001b[0m\u001b[0;34m\u001b[0m\u001b[0m\n\u001b[0m\u001b[1;32m    352\u001b[0m                     \u001b[0;31m# write directly to __stderr__ instead of warning because\u001b[0m\u001b[0;34m\u001b[0m\u001b[0;34m\u001b[0m\u001b[0;34m\u001b[0m\u001b[0m\n\u001b[1;32m    353\u001b[0m                     \u001b[0;31m# if this is happening sys.stderr may be the problem.\u001b[0m\u001b[0;34m\u001b[0m\u001b[0;34m\u001b[0m\u001b[0;34m\u001b[0m\u001b[0m\n",
      "\u001b[0;32m/usr/lib/python3.8/threading.py\u001b[0m in \u001b[0;36mwait\u001b[0;34m(self, timeout)\u001b[0m\n\u001b[1;32m    556\u001b[0m             \u001b[0msignaled\u001b[0m \u001b[0;34m=\u001b[0m \u001b[0mself\u001b[0m\u001b[0;34m.\u001b[0m\u001b[0m_flag\u001b[0m\u001b[0;34m\u001b[0m\u001b[0;34m\u001b[0m\u001b[0m\n\u001b[1;32m    557\u001b[0m             \u001b[0;32mif\u001b[0m \u001b[0;32mnot\u001b[0m \u001b[0msignaled\u001b[0m\u001b[0;34m:\u001b[0m\u001b[0;34m\u001b[0m\u001b[0;34m\u001b[0m\u001b[0m\n\u001b[0;32m--> 558\u001b[0;31m                 \u001b[0msignaled\u001b[0m \u001b[0;34m=\u001b[0m \u001b[0mself\u001b[0m\u001b[0;34m.\u001b[0m\u001b[0m_cond\u001b[0m\u001b[0;34m.\u001b[0m\u001b[0mwait\u001b[0m\u001b[0;34m(\u001b[0m\u001b[0mtimeout\u001b[0m\u001b[0;34m)\u001b[0m\u001b[0;34m\u001b[0m\u001b[0;34m\u001b[0m\u001b[0m\n\u001b[0m\u001b[1;32m    559\u001b[0m             \u001b[0;32mreturn\u001b[0m \u001b[0msignaled\u001b[0m\u001b[0;34m\u001b[0m\u001b[0;34m\u001b[0m\u001b[0m\n\u001b[1;32m    560\u001b[0m \u001b[0;34m\u001b[0m\u001b[0m\n",
      "\u001b[0;32m/usr/lib/python3.8/threading.py\u001b[0m in \u001b[0;36mwait\u001b[0;34m(self, timeout)\u001b[0m\n\u001b[1;32m    304\u001b[0m             \u001b[0;32melse\u001b[0m\u001b[0;34m:\u001b[0m\u001b[0;34m\u001b[0m\u001b[0;34m\u001b[0m\u001b[0m\n\u001b[1;32m    305\u001b[0m                 \u001b[0;32mif\u001b[0m \u001b[0mtimeout\u001b[0m \u001b[0;34m>\u001b[0m \u001b[0;36m0\u001b[0m\u001b[0;34m:\u001b[0m\u001b[0;34m\u001b[0m\u001b[0;34m\u001b[0m\u001b[0m\n\u001b[0;32m--> 306\u001b[0;31m                     \u001b[0mgotit\u001b[0m \u001b[0;34m=\u001b[0m \u001b[0mwaiter\u001b[0m\u001b[0;34m.\u001b[0m\u001b[0macquire\u001b[0m\u001b[0;34m(\u001b[0m\u001b[0;32mTrue\u001b[0m\u001b[0;34m,\u001b[0m \u001b[0mtimeout\u001b[0m\u001b[0;34m)\u001b[0m\u001b[0;34m\u001b[0m\u001b[0;34m\u001b[0m\u001b[0m\n\u001b[0m\u001b[1;32m    307\u001b[0m                 \u001b[0;32melse\u001b[0m\u001b[0;34m:\u001b[0m\u001b[0;34m\u001b[0m\u001b[0;34m\u001b[0m\u001b[0m\n\u001b[1;32m    308\u001b[0m                     \u001b[0mgotit\u001b[0m \u001b[0;34m=\u001b[0m \u001b[0mwaiter\u001b[0m\u001b[0;34m.\u001b[0m\u001b[0macquire\u001b[0m\u001b[0;34m(\u001b[0m\u001b[0;32mFalse\u001b[0m\u001b[0;34m)\u001b[0m\u001b[0;34m\u001b[0m\u001b[0;34m\u001b[0m\u001b[0m\n",
      "\u001b[0;31mKeyboardInterrupt\u001b[0m: "
     ]
    }
   ],
   "source": [
    "from tensorflow.keras.callbacks import ModelCheckpoint\n",
    "filepath = 'temp.hdf5'\n",
    "checkpoint = ModelCheckpoint(filepath, monitor='val_accuracy', verbose=1,\n",
    "                             save_best_only=True, mode='max')\n",
    "num_epochs = 25\n",
    "print(len(X_tr))\n",
    "model.fit(X_tr, y_tr, validation_data=(X_val, y_val), batch_size=batch_size,\n",
    "          epochs=num_epochs, class_weight=class_weights, callbacks=[checkpoint])"
   ]
  },
  {
   "cell_type": "code",
   "execution_count": null,
   "metadata": {},
   "outputs": [],
   "source": [
    "model.load_weights(filepath)"
   ]
  },
  {
   "cell_type": "code",
   "execution_count": 153,
   "metadata": {},
   "outputs": [
    {
     "data": {
      "text/plain": [
       "[0.5108299851417542, 0.7806694507598877]"
      ]
     },
     "execution_count": 153,
     "metadata": {},
     "output_type": "execute_result"
    }
   ],
   "source": [
    "yhat_te = model.predict(X_te)\n",
    "\n",
    "model.evaluate(X_te, y_te, verbose=0)"
   ]
  },
  {
   "cell_type": "code",
   "execution_count": 172,
   "metadata": {},
   "outputs": [
    {
     "data": {
      "text/plain": [
       "['loss', 'accuracy']"
      ]
     },
     "execution_count": 172,
     "metadata": {},
     "output_type": "execute_result"
    }
   ],
   "source": [
    "model.metrics_names"
   ]
  },
  {
   "cell_type": "code",
   "execution_count": 174,
   "metadata": {},
   "outputs": [
    {
     "data": {
      "text/plain": [
       "(0.7793882126841768, 0.4649131174688809)"
      ]
     },
     "execution_count": 174,
     "metadata": {},
     "output_type": "execute_result"
    }
   ],
   "source": [
    "1-np.mean(np.round(yhat_te.T[0])!=y_te), \\\n",
    "-np.mean(y_te*np.log(yhat_te.T[0])+(1-y_te)*np.log(1-yhat_te.T[0]))"
   ]
  },
  {
   "cell_type": "code",
   "execution_count": 177,
   "metadata": {},
   "outputs": [
    {
     "data": {
      "text/plain": [
       "(array([[9961, 2595],\n",
       "        [2915, 9505]]),\n",
       " 0.7855371900826447,\n",
       " 0.7652979066022544)"
      ]
     },
     "execution_count": 177,
     "metadata": {},
     "output_type": "execute_result"
    }
   ],
   "source": [
    "from sklearn.metrics import confusion_matrix, precision_score, recall_score\n",
    "confusion_matrix(y_te, np.round(yhat_te)), \\\n",
    "precision_score(y_te, np.round(yhat_te)), recall_score(y_te, np.round(yhat_te))"
   ]
  }
 ],
 "metadata": {
  "kernelspec": {
   "display_name": "Python 3",
   "language": "python",
   "name": "python3"
  },
  "language_info": {
   "codemirror_mode": {
    "name": "ipython",
    "version": 3
   },
   "file_extension": ".py",
   "mimetype": "text/x-python",
   "name": "python",
   "nbconvert_exporter": "python",
   "pygments_lexer": "ipython3",
   "version": "3.8.2"
  }
 },
 "nbformat": 4,
 "nbformat_minor": 4
}
